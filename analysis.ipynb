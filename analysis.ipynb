{
 "cells": [
  {
   "cell_type": "code",
   "execution_count": 1,
   "metadata": {},
   "outputs": [],
   "source": [
    "# !pip install seaborn\n",
    "#Import all the needed libraries\n",
    "import pandas as pd\n",
    "import numpy as np\n",
    "# import numpy as np\n",
    "import matplotlib.pyplot as plt\n",
    "import json\n",
    "import seaborn as sns\n",
    "import re\n",
    "from collections import Counter, defaultdict\n",
    "# from wordcloud import WordCloud"
   ]
  },
  {
   "cell_type": "code",
   "execution_count": 2,
   "metadata": {},
   "outputs": [
    {
     "name": "stdout",
     "output_type": "stream",
     "text": [
      "Loaded 68 tweets from 'icse22_mixed_v1.json'\n",
      "Gathered 68 tweets\n",
      "Loaded 75 tweets from 'icse22_recent_v1.json'\n",
      "Gathered 82 tweets\n",
      "Loaded 388 tweets from 'icse2022_mixed_v1.json'\n",
      "Gathered 470 tweets\n",
      "Loaded 542 tweets from 'icse2022_recent_v4.json'\n",
      "Gathered 642 tweets\n"
     ]
    }
   ],
   "source": [
    "file_list = ('icse22_mixed_v1.json','icse22_recent_v1.json','icse2022_mixed_v1.json','icse2022_recent_v4.json')\n",
    "icse_tweets = []\n",
    "for path in file_list:\n",
    "    with open(path) as f:\n",
    "        loaded_tweets = json.load(f)\n",
    "        print(f\"Loaded {len(loaded_tweets)} tweets from '{path}'\")\n",
    "        ids = [t['id'] for t in icse_tweets]\n",
    "        for t in loaded_tweets:\n",
    "            if t['id'] not in ids:\n",
    "                icse_tweets.append(t)\n",
    "        print(f\"Gathered {len(icse_tweets)} tweets\")"
   ]
  },
  {
   "cell_type": "code",
   "execution_count": 3,
   "metadata": {},
   "outputs": [],
   "source": [
    "def is_RT(tweet):\n",
    "    if 'retweeted_status' not in tweet:\n",
    "        return False      \n",
    "    else:\n",
    "        return True\n",
    "\n",
    "def is_Reply_to(tweet):\n",
    "    if 'in_reply_to_screen_name' not in tweet:\n",
    "        return False      \n",
    "    else:\n",
    "        return tweet['in_reply_to_screen_name']\n",
    "\n",
    "tweets = pd.DataFrame()\n",
    "tweets['text'] = list(map(lambda tweet: tweet['full_text'] if 'extended_tweet' not in tweet else tweet['extended_tweet']['full_text'], icse_tweets))\n",
    "tweets['Username'] = list(map(lambda tweet: tweet['user']['screen_name'], icse_tweets))\n",
    "# tweets['timestamp'] = list(map(lambda tweet: tweet['created_at'], icse_tweets))\n",
    "tweets['length'] = list(map(lambda tweet: len(tweet['full_text']) if'extended_tweet' not in tweet else len(tweet['extended_tweet']['full_text']), icse_tweets))\n",
    "# tweets['location'] = list(map(lambda tweet: tweet['user']['location'], icse_tweets))\n",
    "tweets['RT'] = list(map(is_RT, icse_tweets))\n",
    "tweets['Reply'] = list(map(is_Reply_to, icse_tweets))\n",
    "tweets['favorites'] = list(map(lambda tweet: tweet['favorite_count'], icse_tweets))\n",
    "tweets['retweets'] = list(map(lambda tweet: tweet['retweet_count'], icse_tweets))\n",
    "tweets['url'] = list(map(lambda t: f\"https://twitter.com/{t['user']['screen_name']}/{t['id_str']}\", icse_tweets))"
   ]
  },
  {
   "cell_type": "code",
   "execution_count": 4,
   "metadata": {},
   "outputs": [
    {
     "data": {
      "text/html": [
       "<div>\n",
       "<style scoped>\n",
       "    .dataframe tbody tr th:only-of-type {\n",
       "        vertical-align: middle;\n",
       "    }\n",
       "\n",
       "    .dataframe tbody tr th {\n",
       "        vertical-align: top;\n",
       "    }\n",
       "\n",
       "    .dataframe thead th {\n",
       "        text-align: right;\n",
       "    }\n",
       "</style>\n",
       "<table border=\"1\" class=\"dataframe\">\n",
       "  <thead>\n",
       "    <tr style=\"text-align: right;\">\n",
       "      <th></th>\n",
       "      <th>text</th>\n",
       "      <th>Username</th>\n",
       "      <th>length</th>\n",
       "      <th>RT</th>\n",
       "      <th>Reply</th>\n",
       "      <th>favorites</th>\n",
       "      <th>retweets</th>\n",
       "      <th>url</th>\n",
       "    </tr>\n",
       "  </thead>\n",
       "  <tbody>\n",
       "    <tr>\n",
       "      <th>0</th>\n",
       "      <td>RT @ICSEconf: #ICSE22 just finished. But we ha...</td>\n",
       "      <td>heiko_braun</td>\n",
       "      <td>140</td>\n",
       "      <td>True</td>\n",
       "      <td>None</td>\n",
       "      <td>0</td>\n",
       "      <td>3</td>\n",
       "      <td>https://twitter.com/heiko_braun/15323189946397...</td>\n",
       "    </tr>\n",
       "    <tr>\n",
       "      <th>1</th>\n",
       "      <td>RT @ICSEconf: #ICSE22 just finished. But we ha...</td>\n",
       "      <td>ivanmachado</td>\n",
       "      <td>140</td>\n",
       "      <td>True</td>\n",
       "      <td>None</td>\n",
       "      <td>0</td>\n",
       "      <td>3</td>\n",
       "      <td>https://twitter.com/ivanmachado/15321702057989...</td>\n",
       "    </tr>\n",
       "    <tr>\n",
       "      <th>2</th>\n",
       "      <td>RT @ICSEconf: #ICSE22 just finished. But we ha...</td>\n",
       "      <td>jeremy_bradbury</td>\n",
       "      <td>140</td>\n",
       "      <td>True</td>\n",
       "      <td>None</td>\n",
       "      <td>0</td>\n",
       "      <td>3</td>\n",
       "      <td>https://twitter.com/jeremy_bradbury/1532159481...</td>\n",
       "    </tr>\n",
       "    <tr>\n",
       "      <th>3</th>\n",
       "      <td>#ICSE22 just finished. But we have some memori...</td>\n",
       "      <td>ICSEconf</td>\n",
       "      <td>141</td>\n",
       "      <td>False</td>\n",
       "      <td>None</td>\n",
       "      <td>25</td>\n",
       "      <td>3</td>\n",
       "      <td>https://twitter.com/ICSEconf/1532120530068946951</td>\n",
       "    </tr>\n",
       "    <tr>\n",
       "      <th>4</th>\n",
       "      <td>RT @cestlemieux: Had a great time seeing every...</td>\n",
       "      <td>ubc_spl</td>\n",
       "      <td>140</td>\n",
       "      <td>True</td>\n",
       "      <td>None</td>\n",
       "      <td>0</td>\n",
       "      <td>1</td>\n",
       "      <td>https://twitter.com/ubc_spl/1532047024626880512</td>\n",
       "    </tr>\n",
       "  </tbody>\n",
       "</table>\n",
       "</div>"
      ],
      "text/plain": [
       "                                                text         Username  length  \\\n",
       "0  RT @ICSEconf: #ICSE22 just finished. But we ha...      heiko_braun     140   \n",
       "1  RT @ICSEconf: #ICSE22 just finished. But we ha...      ivanmachado     140   \n",
       "2  RT @ICSEconf: #ICSE22 just finished. But we ha...  jeremy_bradbury     140   \n",
       "3  #ICSE22 just finished. But we have some memori...         ICSEconf     141   \n",
       "4  RT @cestlemieux: Had a great time seeing every...          ubc_spl     140   \n",
       "\n",
       "      RT Reply  favorites  retweets  \\\n",
       "0   True  None          0         3   \n",
       "1   True  None          0         3   \n",
       "2   True  None          0         3   \n",
       "3  False  None         25         3   \n",
       "4   True  None          0         1   \n",
       "\n",
       "                                                 url  \n",
       "0  https://twitter.com/heiko_braun/15323189946397...  \n",
       "1  https://twitter.com/ivanmachado/15321702057989...  \n",
       "2  https://twitter.com/jeremy_bradbury/1532159481...  \n",
       "3   https://twitter.com/ICSEconf/1532120530068946951  \n",
       "4    https://twitter.com/ubc_spl/1532047024626880512  "
      ]
     },
     "execution_count": 4,
     "metadata": {},
     "output_type": "execute_result"
    }
   ],
   "source": [
    "tweets.head()"
   ]
  },
  {
   "cell_type": "code",
   "execution_count": 5,
   "metadata": {},
   "outputs": [
    {
     "name": "stdout",
     "output_type": "stream",
     "text": [
      "There are 298 unique users in the dataset\n"
     ]
    }
   ],
   "source": [
    "print(f\"There are {tweets['Username'].nunique()} unique users in the dataset\")"
   ]
  },
  {
   "cell_type": "code",
   "execution_count": 6,
   "metadata": {},
   "outputs": [
    {
     "data": {
      "text/html": [
       "<div>\n",
       "<style scoped>\n",
       "    .dataframe tbody tr th:only-of-type {\n",
       "        vertical-align: middle;\n",
       "    }\n",
       "\n",
       "    .dataframe tbody tr th {\n",
       "        vertical-align: top;\n",
       "    }\n",
       "\n",
       "    .dataframe thead th {\n",
       "        text-align: right;\n",
       "    }\n",
       "</style>\n",
       "<table border=\"1\" class=\"dataframe\">\n",
       "  <thead>\n",
       "    <tr style=\"text-align: right;\">\n",
       "      <th></th>\n",
       "      <th>favorites</th>\n",
       "      <th>text</th>\n",
       "      <th>url</th>\n",
       "    </tr>\n",
       "  </thead>\n",
       "  <tbody>\n",
       "    <tr>\n",
       "      <th>70</th>\n",
       "      <td>140</td>\n",
       "      <td>Three WISE women @ICSEconf  (with certificates to prove it). Thanks @davidlo2015 for taking the pic! #icse22 https://t.co/Oh5ha3FfnK</td>\n",
       "      <td>https://twitter.com/burnettmmosu/1529780667009073152</td>\n",
       "    </tr>\n",
       "    <tr>\n",
       "      <th>175</th>\n",
       "      <td>123</td>\n",
       "      <td>Our team at @MSFTResearch is hiring! We’re looking for folks at the intersection of AI &amp;amp; software engineering to help make developers’ work better. You'll work closely with @saintesmsr and Dev Velocity Lab. DM for questions. https://t.co/sRtKhs4Jd8 #icseconf \\n#msrconf #icse2022</td>\n",
       "      <td>https://twitter.com/tomzimmermann/1530700858865770496</td>\n",
       "    </tr>\n",
       "    <tr>\n",
       "      <th>252</th>\n",
       "      <td>98</td>\n",
       "      <td>Congrats to my undergraduate student Bella Laybourn for receiving the second prize in the ACM student research competition at #ICSE2022 for Mu2: Greybox Fuzzing with Mutation Analysis. Bella started this project as a sophomore student at CMU. Great job! https://t.co/nBHRLyzrao</td>\n",
       "      <td>https://twitter.com/moarbugs/1530282008852807681</td>\n",
       "    </tr>\n",
       "    <tr>\n",
       "      <th>167</th>\n",
       "      <td>90</td>\n",
       "      <td>We got. ++ compliments on ⁦@ICSEconf⁩ #icse2022 program (thank you!). It was an amazing team effort (&amp;gt;300 PC members)! Thank you all and to our fearless leadership team(some made it to Pittsburgh ⁦@mdipenta⁩ ⁦@abegel⁩ ⁦⁦@KellyBlincoe⁩ Jo, Tevfik, Frank) https://t.co/ZOI3CYxmap</td>\n",
       "      <td>https://twitter.com/DanaHDamian/1530743837382963200</td>\n",
       "    </tr>\n",
       "    <tr>\n",
       "      <th>184</th>\n",
       "      <td>86</td>\n",
       "      <td>Thank you @sigsoft for sponsoring my child's travel to @ICSEconf. Tks also to all the empathetic smiles (even with eyes, when masked). Special tks to those who kindly approached me interested on replicating our study, and asking about my future plans. #nomaternitywall #ICSE2022 https://t.co/yoZUCi1Su5</td>\n",
       "      <td>https://twitter.com/biancatrink/1530616408463360003</td>\n",
       "    </tr>\n",
       "  </tbody>\n",
       "</table>\n",
       "</div>"
      ],
      "text/plain": [
       "     favorites  \\\n",
       "70         140   \n",
       "175        123   \n",
       "252         98   \n",
       "167         90   \n",
       "184         86   \n",
       "\n",
       "                                                                                                                                                                                                                                                                                                               text  \\\n",
       "70                                                                                                                                                                             Three WISE women @ICSEconf  (with certificates to prove it). Thanks @davidlo2015 for taking the pic! #icse22 https://t.co/Oh5ha3FfnK   \n",
       "175                     Our team at @MSFTResearch is hiring! We’re looking for folks at the intersection of AI &amp; software engineering to help make developers’ work better. You'll work closely with @saintesmsr and Dev Velocity Lab. DM for questions. https://t.co/sRtKhs4Jd8 #icseconf \\n#msrconf #icse2022   \n",
       "252                           Congrats to my undergraduate student Bella Laybourn for receiving the second prize in the ACM student research competition at #ICSE2022 for Mu2: Greybox Fuzzing with Mutation Analysis. Bella started this project as a sophomore student at CMU. Great job! https://t.co/nBHRLyzrao   \n",
       "167                        We got. ++ compliments on ⁦@ICSEconf⁩ #icse2022 program (thank you!). It was an amazing team effort (&gt;300 PC members)! Thank you all and to our fearless leadership team(some made it to Pittsburgh ⁦@mdipenta⁩ ⁦@abegel⁩ ⁦⁦@KellyBlincoe⁩ Jo, Tevfik, Frank) https://t.co/ZOI3CYxmap   \n",
       "184  Thank you @sigsoft for sponsoring my child's travel to @ICSEconf. Tks also to all the empathetic smiles (even with eyes, when masked). Special tks to those who kindly approached me interested on replicating our study, and asking about my future plans. #nomaternitywall #ICSE2022 https://t.co/yoZUCi1Su5   \n",
       "\n",
       "                                                       url  \n",
       "70    https://twitter.com/burnettmmosu/1529780667009073152  \n",
       "175  https://twitter.com/tomzimmermann/1530700858865770496  \n",
       "252       https://twitter.com/moarbugs/1530282008852807681  \n",
       "167    https://twitter.com/DanaHDamian/1530743837382963200  \n",
       "184    https://twitter.com/biancatrink/1530616408463360003  "
      ]
     },
     "execution_count": 6,
     "metadata": {},
     "output_type": "execute_result"
    }
   ],
   "source": [
    "favorite_sorted_tweets = tweets.sort_values('favorites', ascending=False)\n",
    "pd.set_option('display.max_colwidth', None)\n",
    "favorite_sorted_tweets[['favorites','text','url']].head(5)"
   ]
  },
  {
   "cell_type": "code",
   "execution_count": 7,
   "metadata": {},
   "outputs": [
    {
     "data": {
      "text/html": [
       "<div>\n",
       "<style scoped>\n",
       "    .dataframe tbody tr th:only-of-type {\n",
       "        vertical-align: middle;\n",
       "    }\n",
       "\n",
       "    .dataframe tbody tr th {\n",
       "        vertical-align: top;\n",
       "    }\n",
       "\n",
       "    .dataframe thead th {\n",
       "        text-align: right;\n",
       "    }\n",
       "</style>\n",
       "<table border=\"1\" class=\"dataframe\">\n",
       "  <thead>\n",
       "    <tr style=\"text-align: right;\">\n",
       "      <th></th>\n",
       "      <th>retweets</th>\n",
       "      <th>text</th>\n",
       "      <th>url</th>\n",
       "    </tr>\n",
       "  </thead>\n",
       "  <tbody>\n",
       "    <tr>\n",
       "      <th>175</th>\n",
       "      <td>32</td>\n",
       "      <td>Our team at @MSFTResearch is hiring! We’re looking for folks at the intersection of AI &amp;amp; software engineering to help make developers’ work better. You'll work closely with @saintesmsr and Dev Velocity Lab. DM for questions. https://t.co/sRtKhs4Jd8 #icseconf \\n#msrconf #icse2022</td>\n",
       "      <td>https://twitter.com/tomzimmermann/1530700858865770496</td>\n",
       "    </tr>\n",
       "    <tr>\n",
       "      <th>372</th>\n",
       "      <td>14</td>\n",
       "      <td>Good morning #icse2022 attendants! Would have loved to be there in person, but let me spread that we have openings for two well-resourced professorships in CS, esp. in programming languages (PL) and SE with PL focus. https://t.co/ZVlSX75QPj\\nContact me if interested! /cc @ICSEconf</td>\n",
       "      <td>https://twitter.com/thorsten_berger/1530095636317720576</td>\n",
       "    </tr>\n",
       "    <tr>\n",
       "      <th>70</th>\n",
       "      <td>11</td>\n",
       "      <td>Three WISE women @ICSEconf  (with certificates to prove it). Thanks @davidlo2015 for taking the pic! #icse22 https://t.co/Oh5ha3FfnK</td>\n",
       "      <td>https://twitter.com/burnettmmosu/1529780667009073152</td>\n",
       "    </tr>\n",
       "    <tr>\n",
       "      <th>506</th>\n",
       "      <td>10</td>\n",
       "      <td>Congratulations to the winners of the Distinguished Paper Award @ICSEconf 2022. #ICSE2022 https://t.co/mCKvuUNe2x</td>\n",
       "      <td>https://twitter.com/TDurschmid/1529649566877900800</td>\n",
       "    </tr>\n",
       "    <tr>\n",
       "      <th>278</th>\n",
       "      <td>9</td>\n",
       "      <td>It takes you years to come up with a good research idea, says @AndreasZeller. If you’ve had one: we hire you. If you’ve had two, you get tenure. \\n#icse2022</td>\n",
       "      <td>https://twitter.com/azaidman/1530252636934623235</td>\n",
       "    </tr>\n",
       "  </tbody>\n",
       "</table>\n",
       "</div>"
      ],
      "text/plain": [
       "     retweets  \\\n",
       "175        32   \n",
       "372        14   \n",
       "70         11   \n",
       "506        10   \n",
       "278         9   \n",
       "\n",
       "                                                                                                                                                                                                                                                                                            text  \\\n",
       "175  Our team at @MSFTResearch is hiring! We’re looking for folks at the intersection of AI &amp; software engineering to help make developers’ work better. You'll work closely with @saintesmsr and Dev Velocity Lab. DM for questions. https://t.co/sRtKhs4Jd8 #icseconf \\n#msrconf #icse2022   \n",
       "372    Good morning #icse2022 attendants! Would have loved to be there in person, but let me spread that we have openings for two well-resourced professorships in CS, esp. in programming languages (PL) and SE with PL focus. https://t.co/ZVlSX75QPj\\nContact me if interested! /cc @ICSEconf   \n",
       "70                                                                                                                                                          Three WISE women @ICSEconf  (with certificates to prove it). Thanks @davidlo2015 for taking the pic! #icse22 https://t.co/Oh5ha3FfnK   \n",
       "506                                                                                                                                                                            Congratulations to the winners of the Distinguished Paper Award @ICSEconf 2022. #ICSE2022 https://t.co/mCKvuUNe2x   \n",
       "278                                                                                                                                 It takes you years to come up with a good research idea, says @AndreasZeller. If you’ve had one: we hire you. If you’ve had two, you get tenure. \\n#icse2022   \n",
       "\n",
       "                                                         url  \n",
       "175    https://twitter.com/tomzimmermann/1530700858865770496  \n",
       "372  https://twitter.com/thorsten_berger/1530095636317720576  \n",
       "70      https://twitter.com/burnettmmosu/1529780667009073152  \n",
       "506       https://twitter.com/TDurschmid/1529649566877900800  \n",
       "278         https://twitter.com/azaidman/1530252636934623235  "
      ]
     },
     "execution_count": 7,
     "metadata": {},
     "output_type": "execute_result"
    }
   ],
   "source": [
    "retweet_sorted_tweets = tweets[~tweets['RT']].sort_values('retweets', ascending=False)\n",
    "retweet_sorted_tweets[['retweets','text','url']].head(5)"
   ]
  },
  {
   "cell_type": "code",
   "execution_count": 8,
   "metadata": {},
   "outputs": [
    {
     "data": {
      "image/png": "[encoded data removed]",
      "text/plain": [
       "<Figure size 360x360 with 1 Axes>"
      ]
     },
     "metadata": {
      "needs_background": "light"
     },
     "output_type": "display_data"
    }
   ],
   "source": [
    "usertweets = tweets.groupby('Username')\n",
    "#Top tweeting users\n",
    "top_users = usertweets.count()['text'].sort_values(ascending = False)[:20].to_dict()\n",
    "\n",
    "fig, ax = plt.subplots(figsize = (5,5))\n",
    "sns.set_theme()\n",
    "y_pos = np.arange(len(top_users.keys()))\n",
    "ax.barh(y_pos, top_users.values(), align='center')\n",
    "ax.set_yticks(y_pos, labels=top_users.keys())\n",
    "ax.invert_yaxis()  # labels read top-to-bottom\n",
    "ax.set_xlabel(\"Nº of Tweets\")\n",
    "ax.set_title(\"Top 20 most active ICSE'22 hashtag users\")\n",
    "ax.bar_label(ax.containers[0], label_type='edge')\n",
    "plt.show()\n"
   ]
  },
  {
   "cell_type": "code",
   "execution_count": 9,
   "metadata": {},
   "outputs": [
    {
     "name": "stdout",
     "output_type": "stream",
     "text": [
      "The percentage of retweets is 56% of all the tweets\n"
     ]
    },
    {
     "data": {
      "text/html": [
       "<div>\n",
       "<style scoped>\n",
       "    .dataframe tbody tr th:only-of-type {\n",
       "        vertical-align: middle;\n",
       "    }\n",
       "\n",
       "    .dataframe tbody tr th {\n",
       "        vertical-align: top;\n",
       "    }\n",
       "\n",
       "    .dataframe thead th {\n",
       "        text-align: right;\n",
       "    }\n",
       "</style>\n",
       "<table border=\"1\" class=\"dataframe\">\n",
       "  <thead>\n",
       "    <tr style=\"text-align: right;\">\n",
       "      <th></th>\n",
       "      <th>text</th>\n",
       "      <th>Username</th>\n",
       "      <th>length</th>\n",
       "      <th>RT</th>\n",
       "      <th>Reply</th>\n",
       "      <th>favorites</th>\n",
       "      <th>retweets</th>\n",
       "      <th>url</th>\n",
       "    </tr>\n",
       "  </thead>\n",
       "  <tbody>\n",
       "    <tr>\n",
       "      <th>0</th>\n",
       "      <td>RT @ICSEconf: #ICSE22 just finished. But we have some memories here. Check out the virtual presentations on ICSE Youtube Channel. \\n\\nhttps:/…</td>\n",
       "      <td>heiko_braun</td>\n",
       "      <td>140</td>\n",
       "      <td>True</td>\n",
       "      <td>None</td>\n",
       "      <td>0</td>\n",
       "      <td>3</td>\n",
       "      <td>https://twitter.com/heiko_braun/1532318994639765506</td>\n",
       "    </tr>\n",
       "    <tr>\n",
       "      <th>1</th>\n",
       "      <td>RT @ICSEconf: #ICSE22 just finished. But we have some memories here. Check out the virtual presentations on ICSE Youtube Channel. \\n\\nhttps:/…</td>\n",
       "      <td>ivanmachado</td>\n",
       "      <td>140</td>\n",
       "      <td>True</td>\n",
       "      <td>None</td>\n",
       "      <td>0</td>\n",
       "      <td>3</td>\n",
       "      <td>https://twitter.com/ivanmachado/1532170205798989826</td>\n",
       "    </tr>\n",
       "    <tr>\n",
       "      <th>2</th>\n",
       "      <td>RT @ICSEconf: #ICSE22 just finished. But we have some memories here. Check out the virtual presentations on ICSE Youtube Channel. \\n\\nhttps:/…</td>\n",
       "      <td>jeremy_bradbury</td>\n",
       "      <td>140</td>\n",
       "      <td>True</td>\n",
       "      <td>None</td>\n",
       "      <td>0</td>\n",
       "      <td>3</td>\n",
       "      <td>https://twitter.com/jeremy_bradbury/1532159481156616197</td>\n",
       "    </tr>\n",
       "    <tr>\n",
       "      <th>4</th>\n",
       "      <td>RT @cestlemieux: Had a great time seeing everyone in person again (or for the first time) at #ICSE22 ☺️! Really nice to re-connect to commu…</td>\n",
       "      <td>ubc_spl</td>\n",
       "      <td>140</td>\n",
       "      <td>True</td>\n",
       "      <td>None</td>\n",
       "      <td>0</td>\n",
       "      <td>1</td>\n",
       "      <td>https://twitter.com/ubc_spl/1532047024626880512</td>\n",
       "    </tr>\n",
       "    <tr>\n",
       "      <th>7</th>\n",
       "      <td>RT @SeSa_Lab: Bronze medal at the #ICSE22 SRC! 🥉 Congrats to our very own @ManuelDeStefan0! 🚀</td>\n",
       "      <td>ManuelDeStefan0</td>\n",
       "      <td>93</td>\n",
       "      <td>True</td>\n",
       "      <td>None</td>\n",
       "      <td>0</td>\n",
       "      <td>3</td>\n",
       "      <td>https://twitter.com/ManuelDeStefan0/1530961586076123136</td>\n",
       "    </tr>\n",
       "  </tbody>\n",
       "</table>\n",
       "</div>"
      ],
      "text/plain": [
       "                                                                                                                                             text  \\\n",
       "0  RT @ICSEconf: #ICSE22 just finished. But we have some memories here. Check out the virtual presentations on ICSE Youtube Channel. \\n\\nhttps:/…   \n",
       "1  RT @ICSEconf: #ICSE22 just finished. But we have some memories here. Check out the virtual presentations on ICSE Youtube Channel. \\n\\nhttps:/…   \n",
       "2  RT @ICSEconf: #ICSE22 just finished. But we have some memories here. Check out the virtual presentations on ICSE Youtube Channel. \\n\\nhttps:/…   \n",
       "4    RT @cestlemieux: Had a great time seeing everyone in person again (or for the first time) at #ICSE22 ☺️! Really nice to re-connect to commu…   \n",
       "7                                                   RT @SeSa_Lab: Bronze medal at the #ICSE22 SRC! 🥉 Congrats to our very own @ManuelDeStefan0! 🚀   \n",
       "\n",
       "          Username  length    RT Reply  favorites  retweets  \\\n",
       "0      heiko_braun     140  True  None          0         3   \n",
       "1      ivanmachado     140  True  None          0         3   \n",
       "2  jeremy_bradbury     140  True  None          0         3   \n",
       "4          ubc_spl     140  True  None          0         1   \n",
       "7  ManuelDeStefan0      93  True  None          0         3   \n",
       "\n",
       "                                                       url  \n",
       "0      https://twitter.com/heiko_braun/1532318994639765506  \n",
       "1      https://twitter.com/ivanmachado/1532170205798989826  \n",
       "2  https://twitter.com/jeremy_bradbury/1532159481156616197  \n",
       "4          https://twitter.com/ubc_spl/1532047024626880512  \n",
       "7  https://twitter.com/ManuelDeStefan0/1530961586076123136  "
      ]
     },
     "execution_count": 9,
     "metadata": {},
     "output_type": "execute_result"
    }
   ],
   "source": [
    "#See the percentage of tweets from the initial set that are retweets\n",
    "RT_tweets = tweets[tweets['RT'] == True]\n",
    "print(f\"The percentage of retweets is {round(len(RT_tweets)/len(tweets)*100)}% of all the tweets\")\n",
    "RT_tweets.head()"
   ]
  },
  {
   "cell_type": "code",
   "execution_count": 10,
   "metadata": {},
   "outputs": [
    {
     "name": "stdout",
     "output_type": "stream",
     "text": [
      "The percentage of replies is 4% of all the tweets\n"
     ]
    },
    {
     "data": {
      "text/html": [
       "<div>\n",
       "<style scoped>\n",
       "    .dataframe tbody tr th:only-of-type {\n",
       "        vertical-align: middle;\n",
       "    }\n",
       "\n",
       "    .dataframe tbody tr th {\n",
       "        vertical-align: top;\n",
       "    }\n",
       "\n",
       "    .dataframe thead th {\n",
       "        text-align: right;\n",
       "    }\n",
       "</style>\n",
       "<table border=\"1\" class=\"dataframe\">\n",
       "  <thead>\n",
       "    <tr style=\"text-align: right;\">\n",
       "      <th></th>\n",
       "      <th>text</th>\n",
       "      <th>Username</th>\n",
       "      <th>length</th>\n",
       "      <th>RT</th>\n",
       "      <th>Reply</th>\n",
       "      <th>favorites</th>\n",
       "      <th>retweets</th>\n",
       "      <th>url</th>\n",
       "    </tr>\n",
       "  </thead>\n",
       "  <tbody>\n",
       "    <tr>\n",
       "      <th>6</th>\n",
       "      <td>@clegoues @ICSEconf Negative here in London #icse22. /@igorsteinmacher https://t.co/lgaMXlIwEP</td>\n",
       "      <td>rchatley</td>\n",
       "      <td>94</td>\n",
       "      <td>False</td>\n",
       "      <td>clegoues</td>\n",
       "      <td>5</td>\n",
       "      <td>0</td>\n",
       "      <td>https://twitter.com/rchatley/1531896425814138887</td>\n",
       "    </tr>\n",
       "    <tr>\n",
       "      <th>32</th>\n",
       "      <td>The first session of #ICSE22 started with great talks about learning for StackOverflow posts, improvements of API misuse detectors, and mining OSS skills from GitHub activities. https://t.co/U6K9SQLyrg</td>\n",
       "      <td>akwickert</td>\n",
       "      <td>201</td>\n",
       "      <td>False</td>\n",
       "      <td>akwickert</td>\n",
       "      <td>1</td>\n",
       "      <td>0</td>\n",
       "      <td>https://twitter.com/akwickert/1530191752400982019</td>\n",
       "    </tr>\n",
       "    <tr>\n",
       "      <th>33</th>\n",
       "      <td>Some notes about ML related papers presented on second day of #ICSE22 👇 https://t.co/4XCtycwxNq</td>\n",
       "      <td>akwickert</td>\n",
       "      <td>95</td>\n",
       "      <td>False</td>\n",
       "      <td>akwickert</td>\n",
       "      <td>0</td>\n",
       "      <td>0</td>\n",
       "      <td>https://twitter.com/akwickert/1530190761295224832</td>\n",
       "    </tr>\n",
       "    <tr>\n",
       "      <th>36</th>\n",
       "      <td>Here is the link for the paper (Journal First Track, #ICSE22 ): https://t.co/JkHFvMUpx2</td>\n",
       "      <td>GulCalikli</td>\n",
       "      <td>87</td>\n",
       "      <td>False</td>\n",
       "      <td>GulCalikli</td>\n",
       "      <td>1</td>\n",
       "      <td>0</td>\n",
       "      <td>https://twitter.com/GulCalikli/1530189250230116353</td>\n",
       "    </tr>\n",
       "    <tr>\n",
       "      <th>62</th>\n",
       "      <td>@FoelliXde presents their paper  TaintBench at @ICSEconf at the Program Analysis session. \\n\\n #icse22\\n\\ncc @LinghuiLuo @piskachev_ @manuelbenz3 Ivan Pashchenko @linuxfan91 @profbodden @benhermann Fabio Massacci https://t.co/lVqHTV5M23</td>\n",
       "      <td>akwickert</td>\n",
       "      <td>232</td>\n",
       "      <td>False</td>\n",
       "      <td>FoelliXde</td>\n",
       "      <td>13</td>\n",
       "      <td>4</td>\n",
       "      <td>https://twitter.com/akwickert/1529843973841375234</td>\n",
       "    </tr>\n",
       "  </tbody>\n",
       "</table>\n",
       "</div>"
      ],
      "text/plain": [
       "                                                                                                                                                                                                                                            text  \\\n",
       "6                                                                                                                                                 @clegoues @ICSEconf Negative here in London #icse22. /@igorsteinmacher https://t.co/lgaMXlIwEP   \n",
       "32                                     The first session of #ICSE22 started with great talks about learning for StackOverflow posts, improvements of API misuse detectors, and mining OSS skills from GitHub activities. https://t.co/U6K9SQLyrg   \n",
       "33                                                                                                                                               Some notes about ML related papers presented on second day of #ICSE22 👇 https://t.co/4XCtycwxNq   \n",
       "36                                                                                                                                                       Here is the link for the paper (Journal First Track, #ICSE22 ): https://t.co/JkHFvMUpx2   \n",
       "62  @FoelliXde presents their paper  TaintBench at @ICSEconf at the Program Analysis session. \\n\\n #icse22\\n\\ncc @LinghuiLuo @piskachev_ @manuelbenz3 Ivan Pashchenko @linuxfan91 @profbodden @benhermann Fabio Massacci https://t.co/lVqHTV5M23   \n",
       "\n",
       "      Username  length     RT       Reply  favorites  retweets  \\\n",
       "6     rchatley      94  False    clegoues          5         0   \n",
       "32   akwickert     201  False   akwickert          1         0   \n",
       "33   akwickert      95  False   akwickert          0         0   \n",
       "36  GulCalikli      87  False  GulCalikli          1         0   \n",
       "62   akwickert     232  False   FoelliXde         13         4   \n",
       "\n",
       "                                                   url  \n",
       "6     https://twitter.com/rchatley/1531896425814138887  \n",
       "32   https://twitter.com/akwickert/1530191752400982019  \n",
       "33   https://twitter.com/akwickert/1530190761295224832  \n",
       "36  https://twitter.com/GulCalikli/1530189250230116353  \n",
       "62   https://twitter.com/akwickert/1529843973841375234  "
      ]
     },
     "execution_count": 10,
     "metadata": {},
     "output_type": "execute_result"
    }
   ],
   "source": [
    "#See the percentage of tweets from the initial set that are replies #to tweets of another user:\n",
    "Reply_tweets = tweets[tweets['Reply'].apply(type) == str]\n",
    "print(f\"The percentage of replies is {round(len(Reply_tweets)/len(tweets)*100)}% of all the tweets\")\n",
    "Reply_tweets.head()"
   ]
  },
  {
   "cell_type": "code",
   "execution_count": 11,
   "metadata": {},
   "outputs": [
    {
     "name": "stdout",
     "output_type": "stream",
     "text": [
      "The percentage of mentions is 28% of all the tweets\n"
     ]
    }
   ],
   "source": [
    "#Percentage of tweets from the initial set that have mentions and are not retweets:\n",
    "mention_tweets = tweets[~tweets['text'].str.contains(\"RT\") & tweets['text'].str.contains(\"@\")]\n",
    "print(f\"The percentage of mentions is {round(len(mention_tweets)/len(tweets)*100)}% of all the tweets\")"
   ]
  },
  {
   "cell_type": "code",
   "execution_count": 12,
   "metadata": {},
   "outputs": [
    {
     "name": "stdout",
     "output_type": "stream",
     "text": [
      "The percentage of plain text tweets is 16% of all the tweets\n"
     ]
    }
   ],
   "source": [
    "#Tweets that are plain text tweets (No RT or mention)\n",
    "plain_text_tweets = tweets[~tweets['text'].str.contains(\"@\") & ~tweets['text'].str.contains(\"RT\")]\n",
    "print(f\"The percentage of plain text tweets is {round(len(plain_text_tweets)/len(tweets)*100)}% of all the tweets\")"
   ]
  },
  {
   "cell_type": "code",
   "execution_count": 13,
   "metadata": {},
   "outputs": [
    {
     "data": {
      "image/png": "[encoded data removed]",
      "text/plain": [
       "<Figure size 432x288 with 1 Axes>"
      ]
     },
     "metadata": {},
     "output_type": "display_data"
    }
   ],
   "source": [
    "#Now we will plot all the different categories. Note that the reply #tweets are inside the mention tweets\n",
    "len_list = [len(tweets), len(RT_tweets),len(mention_tweets), len(Reply_tweets), len(plain_text_tweets)]\n",
    "item_list = ['All Tweets','Retweets', 'Mentions', 'Replies', 'Plain text tweets']\n",
    "plt.figure()\n",
    "sns.set_theme()\n",
    "plt.title('Tweet categories')\n",
    "plt.xlabel('Type of tweet')\n",
    "plt.ylabel('Number of tweets')\n",
    "sns.barplot(x=item_list, y=len_list)\n",
    "\n",
    "plt.show()"
   ]
  },
  {
   "cell_type": "code",
   "execution_count": 14,
   "metadata": {},
   "outputs": [
    {
     "data": {
      "image/png": "[encoded data removed]",
      "text/plain": [
       "<Figure size 360x360 with 1 Axes>"
      ]
     },
     "metadata": {},
     "output_type": "display_data"
    }
   ],
   "source": [
    "hashtags = Counter()\n",
    "for tweet in icse_tweets:\n",
    "    if ht_list := tweet['entities']['hashtags']:\n",
    "        for ht_element in ht_list:\n",
    "            hashtags.update({ht_element['text']: 1})\n",
    "most_common = hashtags.most_common(20)\n",
    "\n",
    "fig, ax = plt.subplots(figsize = (5,5))\n",
    "y_pos = np.arange(len(most_common))\n",
    "ax.barh(y_pos, [e[1] for e in most_common], align='center')\n",
    "ax.set_yticks(y_pos, labels=[e[0] for e in most_common])\n",
    "ax.invert_yaxis()  # labels read top-to-bottom\n",
    "ax.set_xlabel(\"Nº of appearances\")\n",
    "ax.set_title(\"Top 20 most used hashtags in ICSE'22-related tweets\")\n",
    "ax.bar_label(ax.containers[0], label_type='edge')\n",
    "plt.show()\n"
   ]
  },
  {
   "cell_type": "code",
   "execution_count": 15,
   "metadata": {},
   "outputs": [
    {
     "data": {
      "image/png": "[encoded data removed]",
      "text/plain": [
       "<Figure size 360x360 with 1 Axes>"
      ]
     },
     "metadata": {},
     "output_type": "display_data"
    }
   ],
   "source": [
    "user_mentions = Counter()\n",
    "for tweet in icse_tweets:\n",
    "    if m_list := tweet['entities']['user_mentions']:\n",
    "        for m_element in m_list:\n",
    "            user_mentions.update({m_element['screen_name']: 1})\n",
    "most_common = user_mentions.most_common(20)\n",
    "\n",
    "fig, ax = plt.subplots(figsize = (5,5))\n",
    "sns.set_theme()\n",
    "y_pos = np.arange(len(most_common))\n",
    "ax.barh(y_pos, [e[1] for e in most_common], align='center')\n",
    "ax.set_yticks(y_pos)\n",
    "ax.set_yticklabels([e[0] for e in most_common])\n",
    "ax.invert_yaxis()  # labels read top-to-bottom\n",
    "ax.set_xlabel(\"Nº of mentions\")\n",
    "ax.set_title(\"Top 20 mentioned accounts in tweets with ICSE'22 hashtags\")\n",
    "ax.bar_label(ax.containers[0], label_type='edge')\n",
    "plt.show()"
   ]
  },
  {
   "cell_type": "code",
   "execution_count": null,
   "metadata": {},
   "outputs": [],
   "source": []
  }
 ],
 "metadata": {
  "kernelspec": {
   "display_name": "Python 3 (ipykernel)",
   "language": "python",
   "name": "python3"
  },
  "language_info": {
   "codemirror_mode": {
    "name": "ipython",
    "version": 3
   },
   "file_extension": ".py",
   "mimetype": "text/x-python",
   "name": "python",
   "nbconvert_exporter": "python",
   "pygments_lexer": "ipython3",
   "version": "3.10.4"
  }
 },
 "nbformat": 4,
 "nbformat_minor": 4
}
